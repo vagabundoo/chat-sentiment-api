{
 "nbformat": 4,
 "nbformat_minor": 2,
 "metadata": {
  "language_info": {
   "name": "python",
   "codemirror_mode": {
    "name": "ipython",
    "version": 3
   },
   "version": "3.7.6-final"
  },
  "orig_nbformat": 2,
  "file_extension": ".py",
  "mimetype": "text/x-python",
  "name": "python",
  "npconvert_exporter": "python",
  "pygments_lexer": "ipython3",
  "version": 3,
  "kernelspec": {
   "name": "python37664bitc736265aa96942798be544ff59087e30",
   "display_name": "Python 3.7.6 64-bit"
  }
 },
 "cells": [
  {
   "cell_type": "markdown",
   "metadata": {},
   "source": [
    "#### Once we have our API running, we will go through the process of adding users, chats and messages to show it works well. \n",
    "\n",
    "## Adding users to the database\n",
    "\n",
    "We first add a list of users to the database"
   ]
  },
  {
   "cell_type": "code",
   "execution_count": 1,
   "metadata": {},
   "outputs": [],
   "source": [
    "import requests\n",
    "from json import dumps"
   ]
  },
  {
   "cell_type": "code",
   "execution_count": 2,
   "metadata": {},
   "outputs": [],
   "source": [
    "port = 5001\n",
    "server = 'http://localhost:'\n",
    "usernames = ['Marco Borsato', 'John Snow', 'Mary-jane', 'Yaboy']\n",
    "endpoint = f'/user/create/'          "
   ]
  },
  {
   "cell_type": "code",
   "execution_count": 3,
   "metadata": {},
   "outputs": [],
   "source": [
    "user_ids = [requests.get(f'{server}{port}{endpoint}{u}').text for u in usernames]\n",
    "\n"
   ]
  },
  {
   "cell_type": "code",
   "execution_count": 4,
   "metadata": {},
   "outputs": [
    {
     "data": {
      "text/plain": "['5e52c90c5aeb96e6eb189e20',\n '5e52c90c5aeb96e6eb189e21',\n '5e52c90c5aeb96e6eb189e22']"
     },
     "execution_count": 4,
     "metadata": {},
     "output_type": "execute_result"
    }
   ],
   "source": [
    "user_ids[:3]"
   ]
  },
  {
   "cell_type": "markdown",
   "metadata": {},
   "source": [
    "## Creating a new chat \n",
    "\n",
    "Next, we create a chat with the list of users we just added to the database, and turn it into a string we can put it in as a paremeter in the get request.  \n",
    "The request returns the id of the chat we just created."
   ]
  },
  {
   "cell_type": "code",
   "execution_count": 5,
   "metadata": {},
   "outputs": [
    {
     "name": "stdout",
     "output_type": "stream",
     "text": "{'list_users': '5e52c90c5aeb96e6eb189e20,5e52c90c5aeb96e6eb189e21,5e52c90c5aeb96e6eb189e22'}\n"
    }
   ],
   "source": [
    "endpoint = '/chat/create/'\n",
    "params = {\"list_users\":\",\".join(user_ids[:3])}\n",
    "print(params)\n",
    "\n",
    "chat_resp = requests.get(url=f'{server}{port}{endpoint}', params=params)\n",
    "chat_id = chat_resp.text"
   ]
  },
  {
   "cell_type": "code",
   "execution_count": 6,
   "metadata": {},
   "outputs": [
    {
     "data": {
      "text/plain": "'5e52c90c5aeb96e6eb189e24'"
     },
     "execution_count": 6,
     "metadata": {},
     "output_type": "execute_result"
    }
   ],
   "source": [
    "chat_id #The function returns the chat id, so we can refer to the chat for the following steps."
   ]
  },
  {
   "cell_type": "markdown",
   "metadata": {},
   "source": [
    "## Adding a user to the chat\n",
    "Let us add the fourth user to this chat as well, with the 'add user to chat' call to the API. The function adds the user to the chat, and returns the same chat_id we put into it. If the user does not exist in the database, it raises an error."
   ]
  },
  {
   "cell_type": "code",
   "execution_count": 7,
   "metadata": {},
   "outputs": [
    {
     "name": "stdout",
     "output_type": "stream",
     "text": "We are adding user with id: 5e52c90c5aeb96e6eb189e23\n"
    },
    {
     "data": {
      "text/plain": "<Response [200]>"
     },
     "execution_count": 7,
     "metadata": {},
     "output_type": "execute_result"
    }
   ],
   "source": [
    "endpoint = f'/chat/{chat_id}/adduser'\n",
    "params = user_ids[-1]\n",
    "print(\"We are adding user with id:\",params)\n",
    "\n",
    "extra_user_resp = requests.get(url=f'{server}{port}{endpoint}', params=params)\n",
    "extra_user_resp\n"
   ]
  },
  {
   "cell_type": "markdown",
   "metadata": {},
   "source": [
    "## Adding a message to the chat\n",
    "\n",
    "We can now start populating the chat with messages, with each having a user_id and an associated text. They are stored sequentially in an array, inside the chat-object."
   ]
  },
  {
   "cell_type": "code",
   "execution_count": 8,
   "metadata": {},
   "outputs": [
    {
     "data": {
      "text/plain": "'5e52c90c5aeb96e6eb189e20'"
     },
     "execution_count": 8,
     "metadata": {},
     "output_type": "execute_result"
    }
   ],
   "source": [
    "user_ids[0]"
   ]
  },
  {
   "cell_type": "code",
   "execution_count": 18,
   "metadata": {},
   "outputs": [
    {
     "data": {
      "text/plain": "<Response [500]>"
     },
     "execution_count": 18,
     "metadata": {},
     "output_type": "execute_result"
    }
   ],
   "source": [
    "message = {\n",
    "        \"user_id\":user_ids[0],\n",
    "        \"text\":\"Hey guys\"\n",
    "    }\n",
    "\n",
    "endpoint = f'/chat/{chat_id}/addmessage'\n",
    "\n",
    "add_msg_resp = requests.post(f'{server}{port}{endpoint}', json= message)\n",
    "add_msg_resp"
   ]
  },
  {
   "cell_type": "code",
   "execution_count": 17,
   "metadata": {},
   "outputs": [
    {
     "data": {
      "text/plain": "'<pymongo.results.UpdateResult object at 0x7f8482acc320>'"
     },
     "execution_count": 17,
     "metadata": {},
     "output_type": "execute_result"
    }
   ],
   "source": [
    "add_msg_resp.text"
   ]
  },
  {
   "cell_type": "code",
   "execution_count": null,
   "metadata": {},
   "outputs": [],
   "source": []
  }
 ]
}