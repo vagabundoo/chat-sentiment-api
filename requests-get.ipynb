{
 "nbformat": 4,
 "nbformat_minor": 2,
 "metadata": {
  "language_info": {
   "name": "python",
   "codemirror_mode": {
    "name": "ipython",
    "version": 3
   },
   "version": "3.7.6-final"
  },
  "orig_nbformat": 2,
  "file_extension": ".py",
  "mimetype": "text/x-python",
  "name": "python",
  "npconvert_exporter": "python",
  "pygments_lexer": "ipython3",
  "version": 3,
  "kernelspec": {
   "name": "python37664bitc736265aa96942798be544ff59087e30",
   "display_name": "Python 3.7.6 64-bit"
  }
 },
 "cells": [
  {
   "cell_type": "code",
   "execution_count": null,
   "metadata": {},
   "outputs": [],
   "source": [
    "import requests"
   ]
  },
  {
   "cell_type": "code",
   "execution_count": 6,
   "metadata": {},
   "outputs": [],
   "source": [
    "\n",
    "port = 5001\n",
    "usernames = ['Marco Borsato', 'John Snow', 'Mary-jane', 'Yaboy']\n",
    "endpoint = f'/user/create/{usernames[0]}'\n",
    "\n",
    "resp = requests.get(f'http://localhost:{port}{endpoint}')               \n"
   ]
  },
  {
   "cell_type": "code",
   "execution_count": 12,
   "metadata": {},
   "outputs": [
    {
     "data": {
      "text/plain": "['5e528975113159bd2857c779',\n '5e528975113159bd2857c77a',\n '5e528975113159bd2857c77b',\n '5e528975113159bd2857c77c']"
     },
     "execution_count": 12,
     "metadata": {},
     "output_type": "execute_result"
    }
   ],
   "source": [
    "user_ids = [requests.get(f'http://localhost:{port}{endpoint}').text for u in usernames]\n",
    "user_ids\n"
   ]
  },
  {
   "cell_type": "code",
   "execution_count": 31,
   "metadata": {},
   "outputs": [],
   "source": [
    "#Testing\n",
    "port = 5002\n",
    "list_ids = '?list_users=' + str('5e4ed15d9aecb4edb7b45298')\n",
    "endpoint = f'/chat/create/{list_ids}'\n",
    "\n",
    "resp = requests.get(f'http://localhost:{port}{endpoint}')  "
   ]
  },
  {
   "cell_type": "code",
   "execution_count": null,
   "metadata": {},
   "outputs": [],
   "source": []
  },
  {
   "cell_type": "code",
   "execution_count": 9,
   "metadata": {},
   "outputs": [
    {
     "data": {
      "text/plain": "False"
     },
     "execution_count": 9,
     "metadata": {},
     "output_type": "execute_result"
    }
   ],
   "source": [
    "None == True\n"
   ]
  },
  {
   "cell_type": "code",
   "execution_count": 8,
   "metadata": {},
   "outputs": [],
   "source": [
    "port = 5002\n",
    "endpoint = f'/user/input'\n",
    "\n",
    "resp = requests.get(f'http://localhost:{port}{endpoint}')\n",
    "\n"
   ]
  },
  {
   "cell_type": "code",
   "execution_count": null,
   "metadata": {},
   "outputs": [],
   "source": [
    "\n",
    "requests.post(f'http://localhost:{port}{endpoint}', data = myobj)"
   ]
  }
 ]
}