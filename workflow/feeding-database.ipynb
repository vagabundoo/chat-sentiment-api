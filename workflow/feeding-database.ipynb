{
 "nbformat": 4,
 "nbformat_minor": 2,
 "metadata": {
  "language_info": {
   "name": "python",
   "codemirror_mode": {
    "name": "ipython",
    "version": 3
   },
   "version": "3.7.6-final"
  },
  "orig_nbformat": 2,
  "file_extension": ".py",
  "mimetype": "text/x-python",
  "name": "python",
  "npconvert_exporter": "python",
  "pygments_lexer": "ipython3",
  "version": 3,
  "kernelspec": {
   "name": "python37664bitc736265aa96942798be544ff59087e30",
   "display_name": "Python 3.7.6 64-bit"
  }
 },
 "cells": [
  {
   "cell_type": "code",
   "execution_count": 1,
   "metadata": {},
   "outputs": [],
   "source": [
    "import requests\n",
    "from json import dumps\n",
    "import pandas as pd"
   ]
  },
  {
   "cell_type": "code",
   "execution_count": 2,
   "metadata": {},
   "outputs": [],
   "source": [
    "chat_logs = pd.read_csv(\"../input/chat_logs.csv\")"
   ]
  },
  {
   "cell_type": "code",
   "execution_count": 3,
   "metadata": {},
   "outputs": [
    {
     "data": {
      "text/html": "<div>\n<style scoped>\n    .dataframe tbody tr th:only-of-type {\n        vertical-align: middle;\n    }\n\n    .dataframe tbody tr th {\n        vertical-align: top;\n    }\n\n    .dataframe thead th {\n        text-align: right;\n    }\n</style>\n<table border=\"1\" class=\"dataframe\">\n  <thead>\n    <tr style=\"text-align: right;\">\n      <th></th>\n      <th>log_id</th>\n      <th>line_count</th>\n      <th>user</th>\n      <th>line_message</th>\n      <th>date_of_log</th>\n    </tr>\n  </thead>\n  <tbody>\n    <tr>\n      <th>0</th>\n      <td>1</td>\n      <td>2.0</td>\n      <td>jcater</td>\n      <td>one of these days soon I need to see what geas...</td>\n      <td>2001-06-27</td>\n    </tr>\n    <tr>\n      <th>1</th>\n      <td>2</td>\n      <td>3.0</td>\n      <td>neilt</td>\n      <td>anyway i'm off to do real work for a couple of...</td>\n      <td>2001-06-27</td>\n    </tr>\n    <tr>\n      <th>2</th>\n      <td>3</td>\n      <td>4.0</td>\n      <td>neilt</td>\n      <td>so its today or not this week</td>\n      <td>2001-06-27</td>\n    </tr>\n    <tr>\n      <th>3</th>\n      <td>4</td>\n      <td>5.0</td>\n      <td>neilt</td>\n      <td>we are still waiting for a new forms/geas driver</td>\n      <td>2001-06-27</td>\n    </tr>\n    <tr>\n      <th>4</th>\n      <td>5</td>\n      <td>6.0</td>\n      <td>jcater</td>\n      <td>oh, guess its not today</td>\n      <td>2001-06-27</td>\n    </tr>\n  </tbody>\n</table>\n</div>",
      "text/plain": "  log_id  line_count    user  \\\n0      1         2.0  jcater   \n1      2         3.0   neilt   \n2      3         4.0   neilt   \n3      4         5.0   neilt   \n4      5         6.0  jcater   \n\n                                        line_message date_of_log  \n0  one of these days soon I need to see what geas...  2001-06-27  \n1  anyway i'm off to do real work for a couple of...  2001-06-27  \n2                      so its today or not this week  2001-06-27  \n3   we are still waiting for a new forms/geas driver  2001-06-27  \n4                            oh, guess its not today  2001-06-27  "
     },
     "execution_count": 3,
     "metadata": {},
     "output_type": "execute_result"
    }
   ],
   "source": [
    "chat_logs.head()"
   ]
  },
  {
   "cell_type": "code",
   "execution_count": null,
   "metadata": {},
   "outputs": [],
   "source": []
  }
 ]
}