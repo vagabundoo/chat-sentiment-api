{
 "nbformat": 4,
 "nbformat_minor": 2,
 "metadata": {
  "language_info": {
   "name": "python",
   "codemirror_mode": {
    "name": "ipython",
    "version": 3
   },
   "version": "3.7.6-final"
  },
  "orig_nbformat": 2,
  "file_extension": ".py",
  "mimetype": "text/x-python",
  "name": "python",
  "npconvert_exporter": "python",
  "pygments_lexer": "ipython3",
  "version": 3,
  "kernelspec": {
   "name": "python37664bitc736265aa96942798be544ff59087e30",
   "display_name": "Python 3.7.6 64-bit"
  }
 },
 "cells": [
  {
   "cell_type": "code",
   "execution_count": 1,
   "metadata": {},
   "outputs": [],
   "source": [
    "from pymongo import MongoClient\n",
    "from bson.objectid import ObjectId\n",
    "from bson.errors import InvalidId\n",
    "import mongodb as mdb\n",
    "\n",
    "\n",
    "client = MongoClient(\"mongodb://localhost/chat_sentiments\")\n",
    "db = client.get_database()\n",
    "users_coll = db[\"users\"]\n",
    "conversations_coll = db[\"conversations\"]"
   ]
  },
  {
   "cell_type": "code",
   "execution_count": 2,
   "metadata": {},
   "outputs": [
    {
     "data": {
      "text/plain": "[{'_id': ObjectId('5e4ed15d9aecb4edb7b45298')},\n {'_id': ObjectId('5e4ed27c9aecb4edb7b45299')},\n {'_id': ObjectId('5e4ed28c9aecb4edb7b4529a')},\n {'_id': ObjectId('5e4ed2fd9aecb4edb7b4529b')},\n {'_id': ObjectId('5e4ed3a69aecb4edb7b4529c')},\n {'_id': ObjectId('5e4ed3ab9aecb4edb7b4529d')},\n {'_id': ObjectId('5e4ed4675df297d774e31f0e')},\n {'_id': ObjectId('5e4fa65440f41f4a46fdcde9')},\n {'_id': ObjectId('5e4fa66040f41f4a46fdcdea')},\n {'_id': ObjectId('5e4fa6f1c8c870dc72d4b842')}]"
     },
     "execution_count": 2,
     "metadata": {},
     "output_type": "execute_result"
    }
   ],
   "source": [
    "users = users_coll.find(projection={\"_id\":1}, limit=10)\n",
    "list(users)"
   ]
  },
  {
   "cell_type": "code",
   "execution_count": 3,
   "metadata": {},
   "outputs": [],
   "source": [
    "id = mdb.createChat_toDB(['5e4ed27c9aecb4edb7b45299', '5e4fa6f1c8c870dc72d4b842'])"
   ]
  },
  {
   "cell_type": "code",
   "execution_count": 4,
   "metadata": {},
   "outputs": [
    {
     "data": {
      "text/plain": "{'_id': ObjectId('5e539c40de3156ffa4e92a7c'),\n 'participants': ['5e4ed27c9aecb4edb7b45299', '5e4fa6f1c8c870dc72d4b842'],\n 'messages': []}"
     },
     "execution_count": 4,
     "metadata": {},
     "output_type": "execute_result"
    }
   ],
   "source": [
    "conversations_coll.find_one(id)"
   ]
  },
  {
   "cell_type": "code",
   "execution_count": 5,
   "metadata": {},
   "outputs": [
    {
     "data": {
      "text/plain": "36935717"
     },
     "execution_count": 5,
     "metadata": {},
     "output_type": "execute_result"
    }
   ],
   "source": [
    "chat_id = '5e5120480724a65161ccba4f'\n",
    "user_id = '5e4ed27c9aecb4edb7b45299'\n",
    "text = \"John Snow is dead\"\n",
    "\n",
    "mdb.addMessageToChat_toDB(chat_id, user_id, text)\n"
   ]
  },
  {
   "cell_type": "code",
   "execution_count": 6,
   "metadata": {},
   "outputs": [],
   "source": [
    "chat_id = \"5e5113a10d7ac33636ed8ebc\"\n",
    "user_id = \"5e4ed15d9aecb4edb7b45298\"\n",
    "finding = conversations_coll.find_one({\"$and\": [{\"_id\":ObjectId(chat_id)},{\"participants\":user_id}]})\n",
    "\n",
    "#{\"$and\": [{_id:ObjectId(chat_id)},{\"participants\":user_id}]}"
   ]
  },
  {
   "cell_type": "code",
   "execution_count": 7,
   "metadata": {},
   "outputs": [
    {
     "data": {
      "text/plain": "{'_id': ObjectId('5e5113a10d7ac33636ed8ebc'),\n 'participants': ['5e4ed15d9aecb4edb7b45298', '5e4ed27c9aecb4edb7b45299']}"
     },
     "execution_count": 7,
     "metadata": {},
     "output_type": "execute_result"
    }
   ],
   "source": [
    "finding"
   ]
  },
  {
   "cell_type": "code",
   "execution_count": 8,
   "metadata": {},
   "outputs": [
    {
     "data": {
      "text/plain": "True"
     },
     "execution_count": 8,
     "metadata": {},
     "output_type": "execute_result"
    }
   ],
   "source": [
    "mdb.check_if_user_inChat(chat_id, user_id)"
   ]
  },
  {
   "cell_type": "code",
   "execution_count": 9,
   "metadata": {},
   "outputs": [
    {
     "data": {
      "text/plain": "'{\"messages\": [{\"message_id\": 98235748, \"user_id\": \"5e539b74c27809a6ab73d67d\", \"text\": \"Hey guys\"}]}'"
     },
     "execution_count": 9,
     "metadata": {},
     "output_type": "execute_result"
    }
   ],
   "source": [
    "mdb.getAllMessagesChat(\"5e539b75c27809a6ab73d681\")"
   ]
  },
  {
   "cell_type": "code",
   "execution_count": null,
   "metadata": {},
   "outputs": [],
   "source": []
  }
 ]
}