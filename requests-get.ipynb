{
 "nbformat": 4,
 "nbformat_minor": 2,
 "metadata": {
  "language_info": {
   "name": "python",
   "codemirror_mode": {
    "name": "ipython",
    "version": 3
   },
   "version": "3.7.6-final"
  },
  "orig_nbformat": 2,
  "file_extension": ".py",
  "mimetype": "text/x-python",
  "name": "python",
  "npconvert_exporter": "python",
  "pygments_lexer": "ipython3",
  "version": 3,
  "kernelspec": {
   "name": "python37664bitc736265aa96942798be544ff59087e30",
   "display_name": "Python 3.7.6 64-bit"
  }
 },
 "cells": [
  {
   "cell_type": "code",
   "execution_count": 6,
   "metadata": {},
   "outputs": [
    {
     "ename": "AttributeError",
     "evalue": "module 'requests' has no attribute 'args'",
     "output_type": "error",
     "traceback": [
      "\u001b[0;31m---------------------------------------------------------------------------\u001b[0m",
      "\u001b[0;31mAttributeError\u001b[0m                            Traceback (most recent call last)",
      "\u001b[0;32m<ipython-input-6-994123743863>\u001b[0m in \u001b[0;36m<module>\u001b[0;34m\u001b[0m\n\u001b[1;32m      5\u001b[0m \u001b[0mendpoint\u001b[0m \u001b[0;34m=\u001b[0m \u001b[0;34mf'/user/create/{username}'\u001b[0m\u001b[0;34m\u001b[0m\u001b[0;34m\u001b[0m\u001b[0m\n\u001b[1;32m      6\u001b[0m \u001b[0;34m\u001b[0m\u001b[0m\n\u001b[0;32m----> 7\u001b[0;31m \u001b[0mresp\u001b[0m \u001b[0;34m=\u001b[0m \u001b[0mrequests\u001b[0m\u001b[0;34m.\u001b[0m\u001b[0margs\u001b[0m\u001b[0;34m(\u001b[0m\u001b[0;34mf'http://localhost:{port}{endpoint}'\u001b[0m\u001b[0;34m)\u001b[0m\u001b[0;34m\u001b[0m\u001b[0;34m\u001b[0m\u001b[0m\n\u001b[0m",
      "\u001b[0;31mAttributeError\u001b[0m: module 'requests' has no attribute 'args'"
     ]
    }
   ],
   "source": [
    "import requests\n",
    "\n",
    "port = 5002\n",
    "username = 'Marco Borsato'\n",
    "endpoint = f'/user/create/{username}'\n",
    "\n",
    "resp = requests.get(f'http://localhost:{port}{endpoint}')               \n"
   ]
  },
  {
   "cell_type": "code",
   "execution_count": 28,
   "metadata": {},
   "outputs": [],
   "source": [
    "from pymongo import MongoClient\n",
    "from bson.objectid import ObjectId\n",
    "from bson.errors import InvalidId\n",
    "\n",
    "client = MongoClient(\"mongodb://localhost/chat_sentiments\")\n",
    "db = client.get_database()\n",
    "users_coll = db[\"users\"]\n",
    "conversations_coll = db[\"conversations\"]"
   ]
  },
  {
   "cell_type": "code",
   "execution_count": 13,
   "metadata": {},
   "outputs": [
    {
     "data": {
      "text/plain": "[{'_id': ObjectId('5e4ed15d9aecb4edb7b45298')},\n {'_id': ObjectId('5e4ed27c9aecb4edb7b45299')},\n {'_id': ObjectId('5e4ed28c9aecb4edb7b4529a')},\n {'_id': ObjectId('5e4ed2fd9aecb4edb7b4529b')},\n {'_id': ObjectId('5e4ed3a69aecb4edb7b4529c')},\n {'_id': ObjectId('5e4ed3ab9aecb4edb7b4529d')},\n {'_id': ObjectId('5e4ed4675df297d774e31f0e')},\n {'_id': ObjectId('5e4fa65440f41f4a46fdcde9')},\n {'_id': ObjectId('5e4fa66040f41f4a46fdcdea')},\n {'_id': ObjectId('5e4fa6f1c8c870dc72d4b842')},\n {'_id': ObjectId('5e4fa767c8c870dc72d4b843')},\n {'_id': ObjectId('5e4fa785c8c870dc72d4b844')},\n {'_id': ObjectId('5e4fa7a5c8c870dc72d4b845')},\n {'_id': ObjectId('5e4fa9e153cc2e79e8e78558')},\n {'_id': ObjectId('5e4faab695ccb3bbf31ec894')},\n {'_id': ObjectId('5e4fab1ad48a09ffe45d1f13')},\n {'_id': ObjectId('5e4fab2fd48a09ffe45d1f14')},\n {'_id': ObjectId('5e4fab3a44d9692f4696c6ca')},\n {'_id': ObjectId('5e4fac39f5521e07b7890040')},\n {'_id': ObjectId('5e4fb2fc3bef3e66ef659afb')},\n {'_id': ObjectId('5e4fe92404e4973c47f8e3b0')},\n {'_id': ObjectId('5e4ff0d7878965e72070f2db')},\n {'_id': ObjectId('5e4ffb52d24ea2c6060acdc6')},\n {'_id': ObjectId('5e4ffb606e392b36a20b5872')},\n {'_id': ObjectId('5e4ffc5b5d1c4778939011c3')},\n {'_id': ObjectId('5e4ffc89675a47d761977593')},\n {'_id': ObjectId('5e4ffcca218f993523860b94')},\n {'_id': ObjectId('5e4ffce56d578561fb92602a')},\n {'_id': ObjectId('5e4ffd0a873bbd1ecc9d1668')},\n {'_id': ObjectId('5e4ffd15e0ff6843782fb2f7')},\n {'_id': ObjectId('5e4ffd18ac8ae5faa5c988ae')},\n {'_id': ObjectId('5e4ffd183b1d86877344cc84')},\n {'_id': ObjectId('5e4ffd3f3b1d86877344cc86')},\n {'_id': ObjectId('5e4ffd79257d983b18fc1185')},\n {'_id': ObjectId('5e4ffd7f257d983b18fc1187')},\n {'_id': ObjectId('5e4ffe10cd3909ccf0963a01')},\n {'_id': ObjectId('5e4ffe13cd3909ccf0963a03')},\n {'_id': ObjectId('5e4ffe8494a13ac5524b5d8a')},\n {'_id': ObjectId('5e4ffea6dd4ff0e890adb8c4')},\n {'_id': ObjectId('5e4fff9fcd166a106cd1be03')},\n {'_id': ObjectId('5e4fffb374ba095af297781d')},\n {'_id': ObjectId('5e4fffded476dd214bb78a30')},\n {'_id': ObjectId('5e4ffff97170d01d7c294b63')},\n {'_id': ObjectId('5e5000b4723418f49a2ad8fc')},\n {'_id': ObjectId('5e5000eb04d2a158effdb4b8')},\n {'_id': ObjectId('5e5000ec1ac8e769e5984176')},\n {'_id': ObjectId('5e50015f93b6d434377456f2')},\n {'_id': ObjectId('5e5001973b2172fc17533f66')},\n {'_id': ObjectId('5e5001af20a387cc1b86ec50')},\n {'_id': ObjectId('5e5001e2465ca62e8261caf9')},\n {'_id': ObjectId('5e50028ebd843fa5e9306197')},\n {'_id': ObjectId('5e5002cdd94fe3fa99dde7db')},\n {'_id': ObjectId('5e5002ff367090720671c566')},\n {'_id': ObjectId('5e500329afa6c553c4649d74')},\n {'_id': ObjectId('5e500331646ca23a319ecf41')},\n {'_id': ObjectId('5e5005e0d70f6f0bfd00582c')},\n {'_id': ObjectId('5e5006056fc4b6352ebfd4d5')}]"
     },
     "execution_count": 13,
     "metadata": {},
     "output_type": "execute_result"
    }
   ],
   "source": [
    "users = users_coll.find(projection={\"_id\":1})\n",
    "list(users)"
   ]
  },
  {
   "cell_type": "code",
   "execution_count": 31,
   "metadata": {},
   "outputs": [],
   "source": [
    "#Testing\n",
    "port = 5002\n",
    "list_ids = '?list_users=' + str('5e4ed15d9aecb4edb7b45298')\n",
    "endpoint = f'/chat/create/{list_ids}'\n",
    "\n",
    "resp = requests.get(f'http://localhost:{port}{endpoint}')  "
   ]
  },
  {
   "cell_type": "code",
   "execution_count": null,
   "metadata": {},
   "outputs": [],
   "source": []
  },
  {
   "cell_type": "code",
   "execution_count": 9,
   "metadata": {},
   "outputs": [
    {
     "data": {
      "text/plain": "False"
     },
     "execution_count": 9,
     "metadata": {},
     "output_type": "execute_result"
    }
   ],
   "source": [
    "None == True\n"
   ]
  },
  {
   "cell_type": "code",
   "execution_count": 8,
   "metadata": {},
   "outputs": [],
   "source": [
    "port = 5002\n",
    "endpoint = f'/user/input'\n",
    "\n",
    "resp = requests.get(f'http://localhost:{port}{endpoint}')\n",
    "\n"
   ]
  },
  {
   "cell_type": "code",
   "execution_count": null,
   "metadata": {},
   "outputs": [],
   "source": [
    "\n",
    "requests.post(f'http://localhost:{port}{endpoint}', data = myobj)"
   ]
  }
 ]
}