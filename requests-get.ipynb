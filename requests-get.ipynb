{
 "nbformat": 4,
 "nbformat_minor": 2,
 "metadata": {
  "language_info": {
   "name": "python",
   "codemirror_mode": {
    "name": "ipython",
    "version": 3
   },
   "version": "3.7.6-final"
  },
  "orig_nbformat": 2,
  "file_extension": ".py",
  "mimetype": "text/x-python",
  "name": "python",
  "npconvert_exporter": "python",
  "pygments_lexer": "ipython3",
  "version": 3,
  "kernelspec": {
   "name": "python37664bitc736265aa96942798be544ff59087e30",
   "display_name": "Python 3.7.6 64-bit"
  }
 },
 "cells": [
  {
   "cell_type": "markdown",
   "metadata": {},
   "source": [
    "#### Once we have our API running, we will go through the process of adding users, chats and messages to show it works well. \n",
    "\n",
    "## Adding users to the database\n",
    "\n",
    "We first add a list of users to the database"
   ]
  },
  {
   "cell_type": "code",
   "execution_count": 33,
   "metadata": {},
   "outputs": [],
   "source": [
    "import requests\n",
    "from json import dumps, loads"
   ]
  },
  {
   "cell_type": "code",
   "execution_count": 14,
   "metadata": {},
   "outputs": [],
   "source": [
    "port = 5001\n",
    "server = 'http://localhost:'\n",
    "usernames = ['Marco Borsato', 'John Snow', 'Mary-jane', 'Yaboy']\n",
    "endpoint = f'/user/create/'          "
   ]
  },
  {
   "cell_type": "code",
   "execution_count": 15,
   "metadata": {},
   "outputs": [],
   "source": [
    "user_ids = [requests.get(f'{server}{port}{endpoint}{u}').text for u in usernames]"
   ]
  },
  {
   "cell_type": "markdown",
   "metadata": {},
   "source": [
    "Alternatively, we can go to this link in order to fill in a username through a html-form, and a user will be created:\n",
    "- (http://localhost:5001/user/input)"
   ]
  },
  {
   "cell_type": "markdown",
   "metadata": {},
   "source": [
    "## Creating a new chat \n",
    "\n",
    "Next, we create a chat with the list of users we just added to the database, and turn it into a string we can put it in as a paremeter in the get request.  \n",
    "The request returns the id of the chat we just created."
   ]
  },
  {
   "cell_type": "code",
   "execution_count": 17,
   "metadata": {},
   "outputs": [
    {
     "name": "stdout",
     "output_type": "stream",
     "text": "{'list_users': '5e53baecd7bd871419e1de68,5e53baecd7bd871419e1de69,5e53baecd7bd871419e1de6a'}\n"
    }
   ],
   "source": [
    "endpoint = '/chat/create/'\n",
    "params = {\"list_users\":\",\".join(user_ids[:3])}\n",
    "print(params)\n",
    "\n",
    "chat_resp = requests.get(url=f'{server}{port}{endpoint}', params=params)\n",
    "chat_id = chat_resp.text"
   ]
  },
  {
   "cell_type": "code",
   "execution_count": 18,
   "metadata": {},
   "outputs": [
    {
     "data": {
      "text/plain": "'5e53baecd7bd871419e1de6c'"
     },
     "execution_count": 18,
     "metadata": {},
     "output_type": "execute_result"
    }
   ],
   "source": [
    "chat_id #The function returns the chat id, so we can refer to the chat for the following steps."
   ]
  },
  {
   "cell_type": "markdown",
   "metadata": {},
   "source": [
    "## Adding a user to the chat\n",
    "Let us add the fourth user to this chat as well, with the 'add user to chat' call to the API. The function adds the user to the chat, and returns the same chat_id we put into it. If the user does not exist in the database, it raises an error."
   ]
  },
  {
   "cell_type": "code",
   "execution_count": 19,
   "metadata": {},
   "outputs": [
    {
     "name": "stdout",
     "output_type": "stream",
     "text": "We are adding user with id: 5e53baecd7bd871419e1de6b\n"
    },
    {
     "data": {
      "text/plain": "<Response [200]>"
     },
     "execution_count": 19,
     "metadata": {},
     "output_type": "execute_result"
    }
   ],
   "source": [
    "endpoint = f'/chat/{chat_id}/adduser'\n",
    "params = user_ids[-1]\n",
    "print(\"We are adding user with id:\",params)\n",
    "\n",
    "extra_user_resp = requests.get(url=f'{server}{port}{endpoint}', params=params)\n",
    "extra_user_resp\n"
   ]
  },
  {
   "cell_type": "markdown",
   "metadata": {},
   "source": [
    "## Adding a message to the chat\n",
    "\n",
    "We can now start populating the chat with messages, with each having a user_id and an associated text. They are stored sequentially in an array, inside the chat-object."
   ]
  },
  {
   "cell_type": "code",
   "execution_count": 20,
   "metadata": {},
   "outputs": [
    {
     "data": {
      "text/plain": "'5e53baecd7bd871419e1de68'"
     },
     "execution_count": 20,
     "metadata": {},
     "output_type": "execute_result"
    }
   ],
   "source": [
    "user_ids[0]"
   ]
  },
  {
   "cell_type": "code",
   "execution_count": 21,
   "metadata": {},
   "outputs": [],
   "source": [
    "message1 = {\n",
    "        \"user_id\":user_ids[0],\n",
    "        \"text\":\"Hey guys\"\n",
    "    }\n",
    "\n",
    "message2 = {\n",
    "        \"user_id\":user_ids[1],\n",
    "        \"text\":\"Hey guys\"\n",
    "    }\n",
    "\n",
    "endpoint = f'/chat/{chat_id}/addmessage'\n",
    "\n",
    "add_msg_resp1 = requests.post(f'{server}{port}{endpoint}', json= message1)\n",
    "add_msg_resp2 = requests.post(f'{server}{port}{endpoint}', json= message2)\n",
    "message_id1 = add_msg_resp1.text\n",
    "message_id2 = add_msg_resp2.text"
   ]
  },
  {
   "cell_type": "code",
   "execution_count": 22,
   "metadata": {},
   "outputs": [
    {
     "name": "stdout",
     "output_type": "stream",
     "text": "72475641 52544113\n"
    }
   ],
   "source": [
    "print(message_id1, message_id2)"
   ]
  },
  {
   "cell_type": "markdown",
   "metadata": {},
   "source": [
    "## Retrieving messages in the chat\n",
    "\n",
    "Once we have added a message to the chat, we can use a different funciton to retrieve all of the messages from the chat in a json."
   ]
  },
  {
   "cell_type": "code",
   "execution_count": 39,
   "metadata": {},
   "outputs": [],
   "source": [
    "endpoint = f'/chat/{chat_id}/list'\n",
    "\n",
    "message_list = requests.get(f'{server}{port}{endpoint}')"
   ]
  },
  {
   "cell_type": "code",
   "execution_count": 41,
   "metadata": {},
   "outputs": [
    {
     "data": {
      "text/plain": "'{\"messages\": [{\"message_id\": 72475641, \"user_id\": \"5e53baecd7bd871419e1de68\", \"text\": \"Hey guys\"}, {\"message_id\": 52544113, \"user_id\": \"5e53baecd7bd871419e1de69\", \"text\": \"Hey guys\"}]}'"
     },
     "execution_count": 41,
     "metadata": {},
     "output_type": "execute_result"
    }
   ],
   "source": [
    "message_list.text"
   ]
  },
  {
   "cell_type": "code",
   "execution_count": 36,
   "metadata": {},
   "outputs": [],
   "source": [
    "# And let us verify that we got the package, the list of messages.\n",
    "msges_listofdicts = loads(message_list.text)['messages']"
   ]
  },
  {
   "cell_type": "code",
   "execution_count": 38,
   "metadata": {},
   "outputs": [
    {
     "data": {
      "text/plain": "['Hey guys', 'Hey guys']"
     },
     "execution_count": 38,
     "metadata": {},
     "output_type": "execute_result"
    }
   ],
   "source": [
    "[e['text'] for e in msges_listofdicts]"
   ]
  },
  {
   "cell_type": "markdown",
   "metadata": {},
   "source": [
    "## Getting the sentiments from messages\n",
    "\n",
    "Now that we have some messages in the database, we can use the function getSentiment to get information on the sentiment associated with the messages. The output is a list of dictionaries, where each dictionary is "
   ]
  },
  {
   "cell_type": "code",
   "execution_count": 91,
   "metadata": {},
   "outputs": [],
   "source": [
    "endpoint = f'/chat/{chat_id}/sentiment'\n",
    "jsonmessages = requests.get(f'{server}{port}{endpoint}')"
   ]
  },
  {
   "cell_type": "code",
   "execution_count": 92,
   "metadata": {},
   "outputs": [
    {
     "data": {
      "text/plain": "['{\"neg\": 0.0, \"neu\": 1.0, \"pos\": 0.0, \"compound\": 0.0}',\n '{\"neg\": 0.0, \"neu\": 1.0, \"pos\": 0.0, \"compound\": 0.0}']"
     },
     "execution_count": 92,
     "metadata": {},
     "output_type": "execute_result"
    }
   ],
   "source": [
    "jsonmessages.json()"
   ]
  },
  {
   "cell_type": "code",
   "execution_count": null,
   "metadata": {},
   "outputs": [],
   "source": []
  }
 ]
}